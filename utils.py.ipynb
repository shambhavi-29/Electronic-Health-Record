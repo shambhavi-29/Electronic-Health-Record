{
 "cells": [
  {
   "cell_type": "code",
   "execution_count": 1,
   "id": "78483489",
   "metadata": {},
   "outputs": [],
   "source": [
    "import torch\n",
    "import numpy as np\n",
    "from sklearn.metrics import precision_recall_curve, auc\n",
    "from torch.utils.data import Dataset\n"
   ]
  },
  {
   "cell_type": "code",
   "execution_count": 2,
   "id": "41b4b835",
   "metadata": {},
   "outputs": [
    {
     "name": "stdout",
     "output_type": "stream",
     "text": [
      "cpu\n"
     ]
    }
   ],
   "source": [
    "if torch.cuda.is_available():\n",
    "    device = 'cuda'\n",
    "else:\n",
    "    device = 'cpu'\n",
    "print(device)\n"
   ]
  },
  {
   "cell_type": "code",
   "execution_count": 3,
   "id": "ee20976a",
   "metadata": {},
   "outputs": [],
   "source": [
    "def train(data, model, optim, criterion, lbd, max_clip_norm=5):\n",
    "    model.train()\n",
    "    input = data[:, :-1].to(device)\n",
    "    label = data[:, -1].float().to(device)\n",
    "    model.train()\n",
    "    optim.zero_grad()\n",
    "    logits, kld = model(input)\n",
    "    logits = logits.squeeze(-1)\n",
    "    kld = kld.sum()\n",
    "    bce = criterion(logits, label)\n",
    "    loss = bce + lbd * kld\n",
    "    torch.nn.utils.clip_grad_norm_(model.parameters(), max_clip_norm)\n",
    "    loss.backward()\n",
    "    optim.step()\n",
    "    return loss.item(), kld.item(), bce.item()"
   ]
  },
  {
   "cell_type": "code",
   "execution_count": 4,
   "id": "1a077afa",
   "metadata": {},
   "outputs": [],
   "source": [
    "def evaluate(model, data_iter, length):\n",
    "    model.eval()\n",
    "    y_pred = np.zeros(length)\n",
    "    y_true = np.zeros(length)\n",
    "    y_prob = np.zeros(length)\n",
    "    pointer = 0\n",
    "    for data in data_iter:\n",
    "        input = data[:, :-1].to(device)\n",
    "        label = data[:, -1]\n",
    "        batch_size = len(label)\n",
    "        probability, _ = model(input)\n",
    "        probability = torch.sigmoid(probability.squeeze(-1).detach())\n",
    "        predicted = probability > 0.5\n",
    "        y_true[pointer: pointer + batch_size] = label.numpy()\n",
    "        y_pred[pointer: pointer + batch_size] = predicted.cpu().numpy()\n",
    "        y_prob[pointer: pointer + batch_size] = probability.cpu().numpy()\n",
    "        pointer += batch_size\n",
    "    precision, recall, thresholds = precision_recall_curve(y_true, y_prob)\n",
    "    return auc(recall, precision), (y_pred, y_prob, y_true)"
   ]
  },
  {
   "cell_type": "code",
   "execution_count": 5,
   "id": "f5eda501",
   "metadata": {},
   "outputs": [],
   "source": [
    "class EHRData(Dataset):\n",
    "    def __init__(self, data, cla):\n",
    "        self.data = data\n",
    "        self.cla = cla\n",
    "\n",
    "    def __len__(self):\n",
    "        return len(self.cla)\n",
    "\n",
    "    def __getitem__(self, idx):\n",
    "        return self.data[idx], self.cla[idx]\n"
   ]
  },
  {
   "cell_type": "code",
   "execution_count": 6,
   "id": "b4fae40b",
   "metadata": {},
   "outputs": [],
   "source": [
    "def collate_fn(data):\n",
    "    # padding\n",
    "    data_list = []\n",
    "    for datum in data:\n",
    "        data_list.append(np.hstack((datum[0].toarray().ravel(), datum[1])))\n",
    "    return torch.from_numpy(np.array(data_list)).long()"
   ]
  },
  {
   "cell_type": "code",
   "execution_count": null,
   "id": "ffdb846b",
   "metadata": {},
   "outputs": [],
   "source": []
  }
 ],
 "metadata": {
  "kernelspec": {
   "display_name": "Python 3 (ipykernel)",
   "language": "python",
   "name": "python3"
  },
  "language_info": {
   "codemirror_mode": {
    "name": "ipython",
    "version": 3
   },
   "file_extension": ".py",
   "mimetype": "text/x-python",
   "name": "python",
   "nbconvert_exporter": "python",
   "pygments_lexer": "ipython3",
   "version": "3.10.9"
  }
 },
 "nbformat": 4,
 "nbformat_minor": 5
}
