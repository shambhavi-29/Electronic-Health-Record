{
 "cells": [
  {
   "cell_type": "code",
   "execution_count": 1,
   "id": "2a0fcdee",
   "metadata": {},
   "outputs": [],
   "source": [
    "from torch.utils.data import Dataset\n",
    "import pickle\n",
    "import numpy as np\n",
    "import torch"
   ]
  },
  {
   "cell_type": "code",
   "execution_count": 2,
   "id": "98d3c9d4",
   "metadata": {},
   "outputs": [],
   "source": [
    "def load_pickle(fname):\n",
    "    with open(fname, 'rb') as f:  \n",
    "        return pickle.load(f)\n"
   ]
  },
  {
   "cell_type": "code",
   "execution_count": 4,
   "id": "6a71cebc",
   "metadata": {},
   "outputs": [],
   "source": [
    "def downsample(train_idx, neg_young, train_idx_pos):\n",
    "    downsamples = np.random.permutation(neg_young)[:450000]\n",
    "    mask=np.ones(len(train_idx), bool)\n",
    "    mask[downsamples] = False\n",
    "    downsample_idx = np.concatenate((train_idx[mask], np.repeat(train_idx_pos,50)))\n",
    "    return downsample_idx"
   ]
  },
  {
   "cell_type": "code",
   "execution_count": 5,
   "id": "121c6825",
   "metadata": {},
   "outputs": [],
   "source": [
    "class OriginalData:\n",
    "    def __init__(self, path):\n",
    "        self.path = path\n",
    "        self.feature_selection = load_pickle(path + 'frts_selection.pkl')\n",
    "        self.x = load_pickle(path + 'preprocess_x.pkl')[:, self.feature_selection]\n",
    "        self.y = load_pickle(path + 'y_bin.pkl')"
   ]
  },
  {
   "cell_type": "code",
   "execution_count": 6,
   "id": "6ce9e64b",
   "metadata": {},
   "outputs": [],
   "source": [
    "def datasampler(self, idx_path, train = True):\n",
    "        idx = load_pickle(self.path + idx_path)\n",
    "        if train:\n",
    "            downsample_idx = downsample(idx, load_pickle(self.path + 'neg_young.pkl'), idx[self.y[idx] == 1])\n",
    "            return self.x[downsample_idx, :], self.y[downsample_idx]\n",
    "        return self.x, self.y"
   ]
  },
  {
   "cell_type": "code",
   "execution_count": 7,
   "id": "fd98fba7",
   "metadata": {},
   "outputs": [],
   "source": [
    "class EHRData(Dataset):\n",
    "    def __init__(self, data, cla):\n",
    "        self.data = data\n",
    "        self.cla = cla"
   ]
  },
  {
   "cell_type": "code",
   "execution_count": 8,
   "id": "07bfa6ec",
   "metadata": {},
   "outputs": [],
   "source": [
    "def __len__(self):\n",
    "        return len(self.cla)"
   ]
  },
  {
   "cell_type": "code",
   "execution_count": 9,
   "id": "ac6d1b0f",
   "metadata": {},
   "outputs": [],
   "source": [
    "def __getitem__(self, idx):\n",
    "        return self.data[idx], self.cla[idx]"
   ]
  },
  {
   "cell_type": "code",
   "execution_count": 10,
   "id": "74ffab85",
   "metadata": {},
   "outputs": [],
   "source": [
    "def collate_fn(data):\n",
    "    # padding\n",
    "    data_list = []\n",
    "    for datum in data:\n",
    "        data_list.append(np.hstack((datum[0].toarray().ravel(), datum[1])))\n",
    "    return torch.from_numpy(np.array(data_list)).long()"
   ]
  },
  {
   "cell_type": "code",
   "execution_count": null,
   "id": "43f14b14",
   "metadata": {},
   "outputs": [],
   "source": []
  }
 ],
 "metadata": {
  "kernelspec": {
   "display_name": "Python 3 (ipykernel)",
   "language": "python",
   "name": "python3"
  },
  "language_info": {
   "codemirror_mode": {
    "name": "ipython",
    "version": 3
   },
   "file_extension": ".py",
   "mimetype": "text/x-python",
   "name": "python",
   "nbconvert_exporter": "python",
   "pygments_lexer": "ipython3",
   "version": "3.10.9"
  }
 },
 "nbformat": 4,
 "nbformat_minor": 5
}
