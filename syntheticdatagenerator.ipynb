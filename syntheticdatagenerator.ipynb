{
 "cells": [
  {
   "cell_type": "code",
   "execution_count": 1,
   "id": "10714b0d",
   "metadata": {},
   "outputs": [],
   "source": [
    "import pickle\n",
    "import numpy as np\n",
    "from scipy import sparse"
   ]
  },
  {
   "cell_type": "code",
   "execution_count": 2,
   "id": "2f5c4647",
   "metadata": {},
   "outputs": [],
   "source": [
    "num_samples = 1000\n",
    "# generate 1-d EHR records for patients\n",
    "x = (np.random.rand(num_samples, 133279) < 0.0005).astype('int')\n",
    "x[:num_samples//3,-6] = 1\n",
    "x[num_samples//3:num_samples//3 * 2, -3] = 1\n",
    "x[num_samples//3 * 2:, -2] = 1\n",
    "sp_x = sparse.csr_matrix(x)\n",
    "pickle.dump(sp_x, open('preprocess_x.pkl','wb'))\n",
    "# randomly generate outcome lables for patients\n",
    "y = np.random.rand(num_samples) < 0.01\n",
    "pickle.dump(y, open('y_bin.pkl','wb'))"
   ]
  },
  {
   "cell_type": "code",
   "execution_count": 3,
   "id": "cbe46669",
   "metadata": {},
   "outputs": [],
   "source": [
    "# random split train, validation and test set\n",
    "rand_idx = np.random.rand(num_samples)\n",
    "train_idx = np.where(rand_idx < 0.7)[0]\n",
    "val_idx = np.where((rand_idx >= 0.7) & (rand_idx < 0.8))[0]\n",
    "test_idx = np.where(rand_idx >= 0.8)[0]\n",
    "pickle.dump(train_idx, open('train_idx.pkl','wb'))\n",
    "pickle.dump(val_idx, open('val_idx.pkl','wb'))\n",
    "pickle.dump(test_idx, open('test_idx.pkl','wb'))"
   ]
  },
  {
   "cell_type": "code",
   "execution_count": 4,
   "id": "eed29c9b",
   "metadata": {},
   "outputs": [],
   "source": [
    "neg = np.where(y[test_idx] == 0)[0]\n",
    "neg_young = np.intersect1d(np.where(np.array(x[train_idx][:,-7:-3].sum(axis = 1)).ravel() == 1)[0], neg)\n",
    "pickle.dump(neg_young, open('neg_young.pkl','wb'))"
   ]
  },
  {
   "cell_type": "code",
   "execution_count": null,
   "id": "cd9db5b2",
   "metadata": {},
   "outputs": [],
   "source": []
  }
 ],
 "metadata": {
  "kernelspec": {
   "display_name": "Python 3 (ipykernel)",
   "language": "python",
   "name": "python3"
  },
  "language_info": {
   "codemirror_mode": {
    "name": "ipython",
    "version": 3
   },
   "file_extension": ".py",
   "mimetype": "text/x-python",
   "name": "python",
   "nbconvert_exporter": "python",
   "pygments_lexer": "ipython3",
   "version": "3.10.9"
  }
 },
 "nbformat": 4,
 "nbformat_minor": 5
}
